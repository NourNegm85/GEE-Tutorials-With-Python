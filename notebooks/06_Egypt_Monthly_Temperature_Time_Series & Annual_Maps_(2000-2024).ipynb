{
  "nbformat": 4,
  "nbformat_minor": 0,
  "metadata": {
    "colab": {
      "provenance": [],
      "authorship_tag": "ABX9TyPmXL3gcVCszw3BZbYei75i"
    },
    "kernelspec": {
      "name": "python3",
      "display_name": "Python 3"
    },
    "language_info": {
      "name": "python"
    }
  },
  "cells": [
    {
      "cell_type": "markdown",
      "source": [
        "###🎯 What You'll Learn in This Video\n",
        "\n",
        "✅ Access and visualize monthly temperature trends in Egypt (2000–2024) using ERA5-Land data\n",
        "\n",
        "✅ Convert temperature from Kelvin to Celsius using Xarray\n",
        "\n",
        "✅ Create a Plotly interactive line chart of Egypt’s monthly average temperature\n",
        "\n",
        "✅ Resample the data to annual means using .resample()\n",
        "\n",
        "✅ Generate yearly temperature maps for Egypt"
      ],
      "metadata": {
        "id": "ZGmoT8zjiIiK"
      }
    },
    {
      "cell_type": "code",
      "execution_count": null,
      "metadata": {
        "id": "OGIszlypg4sz"
      },
      "outputs": [],
      "source": [
        "# Install xee library\n",
        "! pip install xee"
      ]
    },
    {
      "cell_type": "code",
      "source": [
        "# Import libraries\n",
        "import ee\n",
        "import geemap\n",
        "import xarray as xr\n",
        "import xee\n",
        "import matplotlib.pyplot as plt\n",
        "import plotly.express as px\n",
        "import pandas as pd"
      ],
      "metadata": {
        "id": "VmA0Fqf2Btmm"
      },
      "execution_count": null,
      "outputs": []
    },
    {
      "cell_type": "code",
      "source": [
        "# Authenticate and initialize Earth Engine\n",
        "ee.Authenticate()\n",
        "\n",
        "ee.Initialize(project = 'ee-nouribrahim25' , opt_url='https://earthengine-highvolume.googleapis.com')"
      ],
      "metadata": {
        "id": "jBU5-hHCBteU"
      },
      "execution_count": null,
      "outputs": []
    },
    {
      "cell_type": "code",
      "source": [
        "# Define Egypt Region\n",
        "egy = ee.FeatureCollection ('projects/ee-nouribrahim25/assets/EGY-ADM0').geometry()\n",
        "egy"
      ],
      "metadata": {
        "id": "5b61EmGLBtab"
      },
      "execution_count": null,
      "outputs": []
    },
    {
      "cell_type": "code",
      "source": [
        "# Load ERA5-Land Monthly temperature data (Kelvin)\n",
        "temp = (ee.ImageCollection('ECMWF/ERA5_LAND/MONTHLY_AGGR')\n",
        "      .filterBounds(egy)\n",
        "      .filterDate('2000-01-01' , '2024-12-31')\n",
        "      .select('temperature_2m')\n",
        "      )\n",
        "\n",
        "temp"
      ],
      "metadata": {
        "id": "WZsEX8TfOCxq"
      },
      "execution_count": null,
      "outputs": []
    },
    {
      "cell_type": "code",
      "source": [
        "# Load into xarray using xee\n",
        "ds = xr.open_dataset(\n",
        "    temp,\n",
        "    engine=\"ee\",\n",
        "    geometry= egy,\n",
        "    crs=\"EPSG:4326\",\n",
        "    scale= 0.11,\n",
        ")\n",
        "ds"
      ],
      "metadata": {
        "id": "hZlEhWj8fR3F"
      },
      "execution_count": null,
      "outputs": []
    },
    {
      "cell_type": "code",
      "source": [
        "# Convert Kelvin to Celsius\n",
        "ds['temperature_2m'] = ds['temperature_2m'] - 273.15\n",
        "ds"
      ],
      "metadata": {
        "id": "ox5vaRNoBtPi"
      },
      "execution_count": null,
      "outputs": []
    },
    {
      "cell_type": "markdown",
      "source": [
        "Monthly Time Series Plot (Plotly)"
      ],
      "metadata": {
        "id": "K7cZ9vLqgoad"
      }
    },
    {
      "cell_type": "code",
      "source": [
        "#Aggregate to monthly mean over Egypt\n",
        "monthly_temp = ds['temperature_2m'].mean(dim=[\"lon\", \"lat\"])\n",
        "monthly_temp"
      ],
      "metadata": {
        "id": "c98fxDFVd1e7"
      },
      "execution_count": null,
      "outputs": []
    },
    {
      "cell_type": "code",
      "source": [
        "#Convert to DataFrame\n",
        "temp_df = monthly_temp.to_dataframe().reset_index()\n",
        "temp_df.head()"
      ],
      "metadata": {
        "id": "Vrska0HvhAUE"
      },
      "execution_count": null,
      "outputs": []
    },
    {
      "cell_type": "code",
      "source": [
        " #Plot with Plotly\n",
        "fig = px.line(\n",
        "    temp_df, x=\"time\", y=\"temperature_2m\",\n",
        "    title=\"Monthly Mean Temperature in Egypt (2000–2024)\",\n",
        "    labels={\"temperature_2m\": \"Temperature (°C)\", \"time\": \"Date\"},\n",
        "    template=\"plotly_white\"\n",
        ")\n",
        "fig.show()"
      ],
      "metadata": {
        "id": "bUJW58IGibA1"
      },
      "execution_count": null,
      "outputs": []
    },
    {
      "cell_type": "code",
      "source": [
        "# Add 12-month rolling average\n",
        "temp_df['rolling'] = temp_df['temperature_2m'].rolling(12).mean()"
      ],
      "metadata": {
        "id": "rQZBBSGCjBWS"
      },
      "execution_count": null,
      "outputs": []
    },
    {
      "cell_type": "code",
      "source": [
        "# Add rolling mean trace and update layout\n",
        "fig.add_scatter(\n",
        "    x=temp_df['time'], y=temp_df['rolling'],\n",
        "    mode='lines', name='12-Month Rolling Avg',\n",
        "    line=dict(color='red')\n",
        ")\n",
        "\n",
        "fig.update_xaxes(\n",
        "    dtick=\"M12\",\n",
        "    tickformat=\"%Y\",\n",
        "    tickangle=0\n",
        ")\n",
        "fig.update_layout(\n",
        "    legend=dict(\n",
        "        orientation=\"h\",\n",
        "        yanchor=\"bottom\",\n",
        "        y=-0.3,\n",
        "        xanchor=\"center\",\n",
        "        x=0.5\n",
        "    )\n",
        ")\n",
        "fig.show()"
      ],
      "metadata": {
        "id": "vUOGvtC6jLoD"
      },
      "execution_count": null,
      "outputs": []
    },
    {
      "cell_type": "markdown",
      "source": [
        "Annual Resampling & Temperature Maps"
      ],
      "metadata": {
        "id": "pDbp1g8yk9ZZ"
      }
    },
    {
      "cell_type": "code",
      "source": [
        "# Resample the data into one year interval\n",
        "annual = ds.resample(time = '1Y').mean('time')\n",
        "annual"
      ],
      "metadata": {
        "id": "ENCs-azRlB2v"
      },
      "execution_count": null,
      "outputs": []
    },
    {
      "cell_type": "code",
      "source": [
        "# plot the annual data on the map\n",
        "annual['temperature_2m'].plot(\n",
        "    figsize=(18, 14),\n",
        "    x = 'lon' ,\n",
        "    y = 'lat' ,\n",
        "    col = 'time' ,\n",
        "    col_wrap=5 ,\n",
        "    robust = True ,\n",
        "    cmap = 'jet',\n",
        "    vmin = 18 ,\n",
        "    vmax = 30 ,\n",
        ");"
      ],
      "metadata": {
        "id": "527sgRD9k5hx"
      },
      "execution_count": null,
      "outputs": []
    }
  ]
}