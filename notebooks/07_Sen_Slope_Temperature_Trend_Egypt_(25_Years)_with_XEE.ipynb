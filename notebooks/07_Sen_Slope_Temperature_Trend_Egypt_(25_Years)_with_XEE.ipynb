{
  "nbformat": 4,
  "nbformat_minor": 0,
  "metadata": {
    "colab": {
      "provenance": [],
      "authorship_tag": "ABX9TyPp8R9d5b2jxODIWcUCeJvG"
    },
    "kernelspec": {
      "name": "python3",
      "display_name": "Python 3"
    },
    "language_info": {
      "name": "python"
    }
  },
  "cells": [
    {
      "cell_type": "markdown",
      "source": [
        "## 📌 About This Notebook\n",
        "\n",
        "This notebook is a **continuation of Video 06: Temperature Trends in Egypt (2000–2024)**.  \n",
        "If you haven’t watched or run that notebook yet, you can check it here:\n",
        "\n",
        "🎥 **Video 06 on YouTube**  \n",
        "[Google Earth Engine with Python [06] - Egypt Monthly Temperature Time Series (2000–2024) [Arabic]](https://www.youtube.com/watch?si=B3JqNh_F1RMEEmyI&v=h9wUak_YTeM&feature=youtu.be)\n",
        "\n",
        "📄 **Code for Video 06 on GitHub**  \n",
        "[06_Egypt_Monthly_Temperature_Time_Series & Annual_Maps (2000–2024).ipynb](https://github.com/NourNegm85/GEE-Tutorials-With-Python/blob/main/notebooks/06_Egypt_Monthly_Temperature_Time_Series%20%26%20Annual_Maps_(2000-2024).ipynb)\n"
      ],
      "metadata": {
        "id": "BbYcwr4SLKQP"
      }
    },
    {
      "cell_type": "markdown",
      "source": [
        "##🎯 What You'll Learn in This Video\n",
        "\n",
        "✅ Calculate Sen’s slope for temperature trends in Egypt (2000–2024)\n",
        "\n",
        "✅ Visualize change per year and total change over the study period"
      ],
      "metadata": {
        "id": "ZGmoT8zjiIiK"
      }
    },
    {
      "cell_type": "code",
      "execution_count": null,
      "metadata": {
        "id": "OGIszlypg4sz"
      },
      "outputs": [],
      "source": [
        "# Install xee library\n",
        "! pip install xee pymannkendall"
      ]
    },
    {
      "cell_type": "markdown",
      "source": [
        "### 📌what is Sen's Slope? and why we use it\n",
        "\n",
        "هو طريقة احصائية لحساب معدل التغير في القيم على مدى زمني في السلاسل الزمنية\n",
        "\n",
        "🔹 لماذا نستخدمه؟  \n",
        "- يعطي نتيجة أكثر دقة في حالة البيانات المتقلبة أو غير المنتظمة.  \n",
        "- لا يتأثر كثيرًا بالقيم الشاذة (Outliers).  \n",
        "- مناسب جدًا لدراسة تغيّر المناخ أو أي اتجاه طويل المدى.\n",
        "\n",
        "📌 في هذا الفيديو سنستخدمه لقياس معدل تغيّر درجة الحرارة في مصر من سنة 2000 إلى 2024، وسننشئ خريطة توضّح أماكن الارتفاع الأكبر في درجات الحرارة.\n"
      ],
      "metadata": {
        "id": "jCrkqHRq9nYJ"
      }
    },
    {
      "cell_type": "code",
      "source": [
        "# Import libraries\n",
        "import ee\n",
        "import geemap\n",
        "import xarray as xr\n",
        "import xee\n",
        "import matplotlib.pyplot as plt\n",
        "from matplotlib.colors import TwoSlopeNorm\n",
        "import plotly.express as px\n",
        "import pandas as pd\n",
        "import numpy as np\n",
        "import pymannkendall as mk"
      ],
      "metadata": {
        "id": "VmA0Fqf2Btmm"
      },
      "execution_count": null,
      "outputs": []
    },
    {
      "cell_type": "code",
      "source": [
        "# Authenticate and initialize Earth Engine\n",
        "ee.Authenticate()\n",
        "\n",
        "ee.Initialize(project = 'ee-nouribrahim25' , opt_url='https://earthengine-highvolume.googleapis.com')"
      ],
      "metadata": {
        "id": "jBU5-hHCBteU"
      },
      "execution_count": null,
      "outputs": []
    },
    {
      "cell_type": "code",
      "source": [
        "# Define Egypt Region\n",
        "egy = ee.FeatureCollection ('projects/ee-nouribrahim25/assets/EGY-ADM0').geometry()\n",
        "egy"
      ],
      "metadata": {
        "id": "5b61EmGLBtab"
      },
      "execution_count": null,
      "outputs": []
    },
    {
      "cell_type": "code",
      "source": [
        "# Load ERA5-Land Monthly temperature data (Kelvin)\n",
        "temp = (ee.ImageCollection('ECMWF/ERA5_LAND/MONTHLY_AGGR')\n",
        "      .filterBounds(egy)\n",
        "      .filterDate('2000-01-01' , '2024-12-31')\n",
        "      .select('temperature_2m')\n",
        "      )\n",
        "\n",
        "temp"
      ],
      "metadata": {
        "id": "WZsEX8TfOCxq"
      },
      "execution_count": null,
      "outputs": []
    },
    {
      "cell_type": "code",
      "source": [
        "# Load into xarray using xee\n",
        "ds = xr.open_dataset(\n",
        "    temp,\n",
        "    engine=\"ee\",\n",
        "    geometry= egy,\n",
        "    crs=\"EPSG:4326\",\n",
        "    scale= 0.11,\n",
        ")\n",
        "ds"
      ],
      "metadata": {
        "id": "hZlEhWj8fR3F"
      },
      "execution_count": null,
      "outputs": []
    },
    {
      "cell_type": "code",
      "source": [
        "# Convert Kelvin to Celsius\n",
        "ds['temperature_2m'] = ds['temperature_2m'] - 273.15\n",
        "ds"
      ],
      "metadata": {
        "id": "ox5vaRNoBtPi"
      },
      "execution_count": null,
      "outputs": []
    },
    {
      "cell_type": "markdown",
      "source": [
        "Monthly Time Series Plot (Plotly)"
      ],
      "metadata": {
        "id": "K7cZ9vLqgoad"
      }
    },
    {
      "cell_type": "code",
      "source": [
        "#Aggregate to monthly mean over Egypt\n",
        "monthly_temp = ds['temperature_2m'].mean(dim=[\"lon\", \"lat\"])\n",
        "monthly_temp"
      ],
      "metadata": {
        "id": "c98fxDFVd1e7"
      },
      "execution_count": null,
      "outputs": []
    },
    {
      "cell_type": "code",
      "source": [
        "#Convert to DataFrame\n",
        "temp_df = monthly_temp.to_dataframe().reset_index()\n",
        "temp_df.head()"
      ],
      "metadata": {
        "id": "Vrska0HvhAUE"
      },
      "execution_count": null,
      "outputs": []
    },
    {
      "cell_type": "code",
      "source": [
        " #Plot with Plotly\n",
        "fig = px.line(\n",
        "    temp_df, x=\"time\", y=\"temperature_2m\",\n",
        "    title=\"Monthly Mean Temperature in Egypt (2000–2024)\",\n",
        "    labels={\"temperature_2m\": \"Temperature (°C)\", \"time\": \"Date\"},\n",
        "    template=\"plotly_white\"\n",
        ")\n",
        "fig.show()"
      ],
      "metadata": {
        "id": "bUJW58IGibA1"
      },
      "execution_count": null,
      "outputs": []
    },
    {
      "cell_type": "code",
      "source": [
        "# Add 12-month rolling average\n",
        "temp_df['rolling'] = temp_df['temperature_2m'].rolling(12).mean()"
      ],
      "metadata": {
        "id": "rQZBBSGCjBWS"
      },
      "execution_count": null,
      "outputs": []
    },
    {
      "cell_type": "code",
      "source": [
        "# Add rolling mean trace and update layout\n",
        "fig.add_scatter(\n",
        "    x=temp_df['time'], y=temp_df['rolling'],\n",
        "    mode='lines', name='12-Month Rolling Avg',\n",
        "    line=dict(color='red')\n",
        ")\n",
        "\n",
        "fig.update_xaxes(\n",
        "    dtick=\"M12\",\n",
        "    tickformat=\"%Y\",\n",
        "    tickangle=0\n",
        ")\n",
        "fig.update_layout(\n",
        "    legend=dict(\n",
        "        orientation=\"h\",\n",
        "        yanchor=\"bottom\",\n",
        "        y=-0.3,\n",
        "        xanchor=\"center\",\n",
        "        x=0.5\n",
        "    )\n",
        ")\n",
        "fig.show()"
      ],
      "metadata": {
        "id": "vUOGvtC6jLoD"
      },
      "execution_count": null,
      "outputs": []
    },
    {
      "cell_type": "markdown",
      "source": [
        "Annual Resampling & Temperature Maps"
      ],
      "metadata": {
        "id": "pDbp1g8yk9ZZ"
      }
    },
    {
      "cell_type": "code",
      "source": [
        "# Resample the data into one year interval\n",
        "annual = ds.resample(time = 'YE').mean('time')\n",
        "annual"
      ],
      "metadata": {
        "id": "ENCs-azRlB2v"
      },
      "execution_count": null,
      "outputs": []
    },
    {
      "cell_type": "code",
      "source": [
        "# plot the annual data on the map\n",
        "annual['temperature_2m'].plot(\n",
        "    figsize=(18, 14),\n",
        "    x = 'lon' ,\n",
        "    y = 'lat' ,\n",
        "    col = 'time' ,\n",
        "    col_wrap=5 ,\n",
        "    robust = True ,\n",
        "    cmap = 'jet',\n",
        "    vmin = 18 ,\n",
        "    vmax = 30 ,\n",
        ");"
      ],
      "metadata": {
        "id": "527sgRD9k5hx"
      },
      "execution_count": null,
      "outputs": []
    },
    {
      "cell_type": "markdown",
      "source": [
        "Define function to apply Sen's slope from pymannkendall"
      ],
      "metadata": {
        "id": "ygIFPbL8_hsU"
      }
    },
    {
      "cell_type": "code",
      "source": [
        "def sen_fun(image):\n",
        "    clean = image[~np.isnan(image)]\n",
        "    return mk.original_test(clean).slope"
      ],
      "metadata": {
        "id": "-mAZ3ndR_Obf"
      },
      "execution_count": null,
      "outputs": []
    },
    {
      "cell_type": "code",
      "source": [
        "# Apply Sen's slope calculation to each pixel\n",
        "sen_slope_map = xr.apply_ufunc(\n",
        "    sen_fun,\n",
        "    annual['temperature_2m'],\n",
        "    input_core_dims=[['time']],   # Apply along the time dimension\n",
        "    output_dtypes=[float],\n",
        "    vectorize=True,               # Apply to each pixel independently\n",
        "    dask='allowed'                # Enables parallel computation\n",
        ")"
      ],
      "metadata": {
        "id": "FEnnGdWx_ydx"
      },
      "execution_count": null,
      "outputs": []
    },
    {
      "cell_type": "markdown",
      "source": [
        "Plot Sen's slope map"
      ],
      "metadata": {
        "id": "YTBadSu-_9G_"
      }
    },
    {
      "cell_type": "code",
      "source": [
        "# Plot with Matplotlib\n",
        "plt.figure(figsize=(6, 4))\n",
        "sen_slope_map.plot(\n",
        "    x='lon',\n",
        "    y='lat',\n",
        "    robust=True,\n",
        "    cmap='RdBu_r',\n",
        "    cbar_kwargs={'label': 'Temperature Change (°C/year)'},\n",
        "    vmin = -abs(sen_slope_map.max()),\n",
        "    vmax = abs(sen_slope_map.max()),\n",
        "    )\n",
        "plt.title(\"Sen's Slope of Annual Mean Temperature in Egypt (2000–2024)\")\n",
        "plt.xlabel('Lon')\n",
        "plt.ylabel('Lat')\n",
        "plt.show()"
      ],
      "metadata": {
        "id": "0NqT1bBp_6ZA"
      },
      "execution_count": null,
      "outputs": []
    },
    {
      "cell_type": "markdown",
      "source": [
        "Total change map (°C)"
      ],
      "metadata": {
        "id": "AX5o5fqbG5ev"
      }
    },
    {
      "cell_type": "code",
      "source": [
        "# Number of years in the dataset\n",
        "n_years = len(annual.time)\n",
        "\n",
        "# Plot total change\n",
        "plt.figure(figsize=(6, 4))\n",
        "(sen_slope_map * n_years).plot(\n",
        "    x='lon',\n",
        "    y='lat',\n",
        "    cmap='RdBu_r',\n",
        "    norm=TwoSlopeNorm(vmin=-1.4, vcenter=0, vmax=1.4),\n",
        "    cbar_kwargs={'label': 'Total Temperature Change (°C)'}\n",
        ")\n",
        "plt.title(\"Total Temperature Change in Egypt (25 years)\")\n",
        "plt.show()"
      ],
      "metadata": {
        "id": "AaCQ_3WpEkyj"
      },
      "execution_count": null,
      "outputs": []
    }
  ]
}