{
  "nbformat": 4,
  "nbformat_minor": 0,
  "metadata": {
    "colab": {
      "provenance": [],
      "authorship_tag": "ABX9TyOgyj6Tz9RlHEzqSUJa8RYM"
    },
    "kernelspec": {
      "name": "python3",
      "display_name": "Python 3"
    },
    "language_info": {
      "name": "python"
    }
  },
  "cells": [
    {
      "cell_type": "markdown",
      "source": [
        "##🎯 What You’ll Learn in This Video\n",
        "\n",
        "✅ Calculate SAVI using Sentinel-2 and Landsat8 with eemont\n",
        "\n",
        "✅ Visualize SAVI in interactive maps with geemap"
      ],
      "metadata": {
        "id": "rc_kDVUVmTlU"
      }
    },
    {
      "cell_type": "markdown",
      "source": [
        "###What is SAVI (Soil Adjusted Vegetation Index) ?\n",
        "- هو مؤشر نباتي مصمم لتقليل تأثير انعكاس التربة الخلفية على قيم المؤشر، خاصة في المناطق التي يكون فيها الغطاء النباتي منخفضًا أو متفرقًا، مثل المناطق القاحلة وشبه القاحلة\n",
        "- تقدير كثافة وحيوية الغطاء النباتي مع تصحيح أثر الانعكاس الطيفي للتربة الخلفية الذي يشوه القياس\n",
        "\n",
        "- يُفضل استخدامه في المناطق التي يكون فيها الغطاء النباتي منخفضًا أو متفرقًا (أقل من 40%)، مثل المناطق القاحلة أو في المراحل المبكرة من نمو المحاصيل حيث تكون التربة مكشوفة بشكل كبير\n",
        "\n",
        "- يعتمد على إدخال عامل تصحيح التربة (\n",
        "L\n",
        ") في المعادلة لتقليل تأثير انعكاس التربة.\n",
        "\n",
        "###**المعادلة**\n",
        "![SAVI.png](data:image/png;base64,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)\n",
        "###**مكونات المعادلة**\n",
        "\n",
        "NIR: Reflectance in the Near-Infrared band.\n",
        "\n",
        "Red: Reflectance in the Red band.\n",
        "\n",
        "L: Soil Adjustment Factor, a constant value between 0 and 1.\n",
        "\n",
        " القيم القريبة من\n",
        "+1\n",
        ": تشير إلى غطاء نباتي كثيف وصحي\n",
        "\n",
        "القيم القريبة من\n",
        "0\n",
        ": تشير إلى تربة مكشوفة أو غطاء نباتي قليل جداً، مع الأخذ في الاعتبار تصحيح الانعكاس."
      ],
      "metadata": {
        "id": "q8LnbbCxmYjx"
      }
    },
    {
      "cell_type": "code",
      "execution_count": null,
      "metadata": {
        "id": "FCask9b7fkR0"
      },
      "outputs": [],
      "source": [
        "!pip install eemont"
      ]
    },
    {
      "cell_type": "code",
      "source": [
        "import ee\n",
        "import geemap\n",
        "import eemont"
      ],
      "metadata": {
        "id": "ibK_gIDHmkCY"
      },
      "execution_count": null,
      "outputs": []
    },
    {
      "cell_type": "code",
      "source": [
        "# Authenticate and initialize Earth Engine\n",
        "ee.Authenticate()\n",
        "\n",
        "ee.Initialize(project = 'ee-nouribrahim25')"
      ],
      "metadata": {
        "id": "P5Z29Dkzmfrh"
      },
      "execution_count": null,
      "outputs": []
    },
    {
      "cell_type": "code",
      "source": [
        "coors = [[30.305788, 30.178518],\n",
        "    [30.305788, 30.237858],\n",
        "    [30.419943, 30.237858],\n",
        "    [30.419943, 30.178518],\n",
        "    [30.305788, 30.178518]]"
      ],
      "metadata": {
        "id": "Q1FqMeHUmk4Z"
      },
      "execution_count": null,
      "outputs": []
    },
    {
      "cell_type": "code",
      "source": [
        "aoi = ee.Geometry.Polygon(coors)\n",
        "aoi"
      ],
      "metadata": {
        "id": "7uhqhyNcmm_5"
      },
      "execution_count": null,
      "outputs": []
    },
    {
      "cell_type": "code",
      "source": [
        "#Date Range\n",
        "start_date = '2025-01-01'\n",
        "end_date   = '2025-04-01'"
      ],
      "metadata": {
        "id": "vdxr79Gpmq6I"
      },
      "execution_count": null,
      "outputs": []
    },
    {
      "cell_type": "code",
      "source": [
        "# Sentinel-2 with eemont\n",
        "sen2 = (ee.ImageCollection(\"COPERNICUS/S2_SR_HARMONIZED\")\n",
        "      .filterBounds(aoi)\n",
        "      .filterDate(start_date , end_date)\n",
        "      .maskClouds()                             # Cloud/shadow masking\n",
        "      .scaleAndOffset()                         # Apply scale/offset\n",
        "      .spectralIndices(\"SAVI\")                  # Calculate the index\n",
        "      .mean()\n",
        "      .clip(aoi)\n",
        ")"
      ],
      "metadata": {
        "id": "mH7fmUOkmrrA"
      },
      "execution_count": null,
      "outputs": []
    },
    {
      "cell_type": "code",
      "source": [
        "# Landsat 8 with eemont\n",
        "land8 = (\n",
        "    ee.ImageCollection('LANDSAT/LC08/C02/T1_L2')\n",
        "    .filterDate(start_date, end_date)\n",
        "    .filterBounds(aoi)\n",
        "    .maskClouds()\n",
        "    .scaleAndOffset()\n",
        "    .spectralIndices('SAVI')\n",
        "    .mean()\n",
        "    .clip(aoi)\n",
        ")\n"
      ],
      "metadata": {
        "id": "rVG4YjxJmw-Z"
      },
      "execution_count": null,
      "outputs": []
    },
    {
      "cell_type": "code",
      "source": [
        "# visulization parameters\n",
        "vis_savi = {'min': 0.0, 'max': 0.8, 'palette': ['brown', 'yellow', 'green']}\n"
      ],
      "metadata": {
        "id": "gEZhEG48m1ex"
      },
      "execution_count": null,
      "outputs": []
    },
    {
      "cell_type": "code",
      "source": [
        "Map = geemap.Map(width = 800)\n",
        "Map.centerObject(aoi, 10)"
      ],
      "metadata": {
        "id": "hlqUWL5xnL-C"
      },
      "execution_count": null,
      "outputs": []
    },
    {
      "cell_type": "code",
      "source": [
        "# Sentinel-2 layer\n",
        "Map.addLayer(sen2.select('SAVI'), vis_savi, 'SAVI Sentinel-2')\n",
        "# Landsat 8 layer\n",
        "Map.addLayer(land8.select('SAVI'), vis_savi, 'SAVI Landsat 8')\n",
        "\n",
        "Map"
      ],
      "metadata": {
        "id": "MATQx_3VnMlg"
      },
      "execution_count": null,
      "outputs": []
    }
  ]
}