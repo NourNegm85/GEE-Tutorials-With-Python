{
  "cells": [
    {
      "cell_type": "markdown",
      "metadata": {
        "id": "KN-aYJVU0dbE"
      },
      "source": [
        "### 🎯 What You'll Learn:\n",
        "✅ Search and select Sentinel-2 satellite images using Earth Engine's Data Catalog\n",
        "\n",
        "✅ Filter images by date, cloud coverage, and area of interest (AOI)\n",
        "\n",
        "✅ Visualize true-color composites using RGB bands\n",
        "\n",
        "✅ Export selected satellite images to Google Drive for further use\n",
        "\n"
      ]
    },
    {
      "cell_type": "code",
      "execution_count": null,
      "metadata": {
        "id": "MFfz7T3XJmKY"
      },
      "outputs": [],
      "source": [
        "# import libraries\n",
        "import ee\n",
        "import geemap"
      ]
    },
    {
      "cell_type": "code",
      "execution_count": null,
      "metadata": {
        "id": "1M0rbNtBKX_X"
      },
      "outputs": [],
      "source": [
        "# Authentication\n",
        "ee.Authenticate()\n",
        "\n",
        "# Initializing\n",
        "ee.Initialize(project =  'ee-nouribrahim25'  )"
      ]
    },
    {
      "cell_type": "code",
      "execution_count": null,
      "metadata": {
        "id": "WZU0QQuoLLvf"
      },
      "outputs": [],
      "source": [
        "# Convert aoi (Delta Nile) coordinates into Polygon gemometry\n",
        "\n",
        "delta_coors = [\n",
        "  [29.476443, 29.830897],\n",
        "  [29.476443, 31.615753],\n",
        "  [32.805301, 31.615753],\n",
        "  [32.805301, 29.830897],\n",
        "  [29.476443, 29.830897]\n",
        "  ]\n",
        "\n",
        "aoi = ee.Geometry.Polygon(delta_coors)\n",
        "aoi"
      ]
    },
    {
      "cell_type": "code",
      "execution_count": null,
      "metadata": {
        "id": "stPPdQCBKdc2"
      },
      "outputs": [],
      "source": [
        "# Create the first interactive map\n",
        "Map = geemap.Map( width = 800)\n",
        "\n",
        "# Add aoi as a layer\n",
        "Map.add_layer(aoi, {}, 'Delta Nile')\n",
        "Map"
      ]
    },
    {
      "cell_type": "markdown",
      "source": [
        "###Load a Sentinel-2 image collection"
      ],
      "metadata": {
        "id": "mFZhge0ETS35"
      }
    },
    {
      "cell_type": "code",
      "execution_count": null,
      "metadata": {
        "id": "54B5GLm3MxSN"
      },
      "outputs": [],
      "source": [
        "# We'll filter for a recent, cloud-free image over the Nile Delta.\n",
        "\n",
        "s2_image = (\n",
        "    ee.ImageCollection(\"COPERNICUS/S2_SR_HARMONIZED\")\n",
        "    .filterBounds(aoi)\n",
        "    .filterDate('2024-01-01', '2025-01-01')\n",
        "    .filter(ee.Filter.lt('CLOUDY_PIXEL_PERCENTAGE', 10))\n",
        "    .median()\n",
        ")\n",
        "\n",
        "s2_image"
      ]
    },
    {
      "cell_type": "code",
      "source": [
        "# Select the 10-meter resolution bands (B2, B3, B4, B8) , B2: Blue / B3: Green / B4: Red / B8: Near-Infrared (NIR)\n",
        "# We'll use B4 (Red) as our reference for getting the projection, as it's 10m.\n",
        "\n",
        "s2_image = s2_image.select(['B2', 'B3', 'B4', 'B8'])"
      ],
      "metadata": {
        "id": "MFQ7dSHoZPuG"
      },
      "execution_count": null,
      "outputs": []
    },
    {
      "cell_type": "code",
      "source": [
        "# Get the projection (CRS and transform) for a 10-meter band.\n",
        "# We use the B4 band's projection as it's natively 10m.\n",
        "\n",
        "projection_10m = s2_image.select('B4').projection().getInfo()\n",
        "\n",
        "export_crs = projection_10m['crs']\n",
        "export_crs_transform = projection_10m['transform']\n"
      ],
      "metadata": {
        "id": "Lw0T02_3ZeEP"
      },
      "execution_count": null,
      "outputs": []
    },
    {
      "cell_type": "code",
      "source": [
        "print(f\"Sentinel-2 CRS: {export_crs}\")\n",
        "print(f\"Sentinel-2 CRS Transform (10m bands): {export_crs_transform}\")"
      ],
      "metadata": {
        "id": "3DF8hwYrbf6n"
      },
      "execution_count": null,
      "outputs": []
    },
    {
      "cell_type": "code",
      "source": [
        "# Visualize the true color aoi image\n",
        "Map.addLayer(s2_image.select(['B4', 'B3', 'B2']), {'min': 0, 'max': 3000}, 'Sentinel-2 RGB')\n",
        "Map"
      ],
      "metadata": {
        "id": "QG9YfE7Ogz5G"
      },
      "execution_count": null,
      "outputs": []
    },
    {
      "cell_type": "markdown",
      "source": [
        "### Define and Start the Image Export Task"
      ],
      "metadata": {
        "id": "8SDyuhgvbxYW"
      }
    },
    {
      "cell_type": "code",
      "source": [
        "# Define the export task\n",
        "task = ee.batch.Export.image.toDrive(\n",
        "    image= s2_image,\n",
        "    description='nile_delta_s2_10m_precise',\n",
        "    folder='GEE_Exports',\n",
        "    fileNamePrefix='nile_delta_s2_10m_precise',\n",
        "    crs = export_crs,\n",
        "    crsTransform = export_crs_transform,\n",
        "    region= aoi,\n",
        "    maxPixels=1e10,                # Increase maxPixels for larger areas if needed\n",
        "    fileFormat='GeoTIFF'           # GeoTIFF is recommended for geospatial data\n",
        ")\n",
        "\n",
        "# Start the export task\n",
        "task.start()"
      ],
      "metadata": {
        "id": "ZiG2bqYqcOd4"
      },
      "execution_count": null,
      "outputs": []
    },
    {
      "cell_type": "markdown",
      "metadata": {
        "id": "80a49704"
      },
      "source": [
        "### Exporting Each Band Separately\n",
        "\n",
        "To export each band individually, you need to loop through the list of bands you want to export and create a separate export task for each one."
      ]
    },
    {
      "cell_type": "code",
      "metadata": {
        "id": "6fb74b07"
      },
      "source": [
        "# Assume s2_image is your selected image with bands ['B2', 'B3', 'B4', 'B8']\n",
        "# and aoi, export_crs, export_crs_transform are defined from previous cells.\n",
        "\n",
        "# List of bands to export separately\n",
        "bands_to_export = ['B2', 'B3', 'B4', 'B8']\n",
        "\n",
        "# Loop through each band and create an export task\n",
        "for band_name in bands_to_export:\n",
        "    print(f\"Preparing to export band: {band_name}\")\n",
        "\n",
        "    # Select the current band\n",
        "    single_band_image = s2_image.select(band_name)\n",
        "\n",
        "    # Define the export task description and file name\n",
        "    export_description = f'nile_delta_s2_band_{band_name}'\n",
        "    file_name = f'nile_delta_s2_band_{band_name}'\n",
        "\n",
        "    # Define the export task\n",
        "    task = ee.batch.Export.image.toDrive(\n",
        "        image=single_band_image,\n",
        "        description=export_description,\n",
        "        folder='GEE_Exports',              # Optional: specify a different folder\n",
        "        fileNamePrefix=file_name,\n",
        "        crs=export_crs,\n",
        "        crsTransform=export_crs_transform,\n",
        "        region=aoi,\n",
        "        maxPixels=1e10,\n",
        "        fileFormat='GeoTIFF'\n",
        "    )\n",
        "\n",
        "    # Start the export task\n",
        "    task.start()\n",
        "\n"
      ],
      "execution_count": null,
      "outputs": []
    }
  ],
  "metadata": {
    "colab": {
      "provenance": [],
      "authorship_tag": "ABX9TyNOVumH2Lbuh/tTmGXNzD8A"
    },
    "kernelspec": {
      "display_name": "Python 3",
      "name": "python3"
    },
    "language_info": {
      "name": "python"
    }
  },
  "nbformat": 4,
  "nbformat_minor": 0
}
