{
  "nbformat": 4,
  "nbformat_minor": 0,
  "metadata": {
    "colab": {
      "provenance": [],
      "authorship_tag": "ABX9TyO7yCPMRbdaRqiEPNrolRIR"
    },
    "kernelspec": {
      "name": "python3",
      "display_name": "Python 3"
    },
    "language_info": {
      "name": "python"
    }
  },
  "cells": [
    {
      "cell_type": "markdown",
      "source": [
        "### 🎯 What You'll Learn:\n",
        "- How to initialize Earth Engine and geemap\n",
        "- How to display an interactive map in Colab\n",
        "- How to draw a point or polygon on the map\n",
        "- How to extract and use coordinates in your analysis"
      ],
      "metadata": {
        "id": "f2KenrqT8Ow5"
      }
    },
    {
      "cell_type": "code",
      "execution_count": 1,
      "metadata": {
        "id": "QvFdM5-ybrqQ"
      },
      "outputs": [],
      "source": [
        "# import libraries\n",
        "import ee\n",
        "import geemap"
      ]
    },
    {
      "cell_type": "code",
      "source": [
        "# Authentication\n",
        "ee.Authenticate()\n",
        "\n",
        "# Initializing\n",
        "ee.Initialize(project =  'your project name'  )"
      ],
      "metadata": {
        "id": "cyd9JR_xb67b",
        "colab": {
          "base_uri": "https://localhost:8080/",
          "height": 17
        },
        "outputId": "65a7fc3c-8ff8-4ce8-ded3-b8b867c43d6b"
      },
      "execution_count": 2,
      "outputs": [
        {
          "output_type": "display_data",
          "data": {
            "text/plain": [
              "<IPython.core.display.HTML object>"
            ],
            "text/html": [
              "\n",
              "            <style>\n",
              "                .geemap-dark {\n",
              "                    --jp-widgets-color: white;\n",
              "                    --jp-widgets-label-color: white;\n",
              "                    --jp-ui-font-color1: white;\n",
              "                    --jp-layout-color2: #454545;\n",
              "                    background-color: #383838;\n",
              "                }\n",
              "\n",
              "                .geemap-dark .jupyter-button {\n",
              "                    --jp-layout-color3: #383838;\n",
              "                }\n",
              "\n",
              "                .geemap-colab {\n",
              "                    background-color: var(--colab-primary-surface-color, white);\n",
              "                }\n",
              "\n",
              "                .geemap-colab .jupyter-button {\n",
              "                    --jp-layout-color3: var(--colab-primary-surface-color, white);\n",
              "                }\n",
              "            </style>\n",
              "            "
            ]
          },
          "metadata": {}
        }
      ]
    },
    {
      "cell_type": "markdown",
      "source": [
        "### Create the first map and add a location as a layer."
      ],
      "metadata": {
        "id": "AA-IuM02lfCM"
      }
    },
    {
      "cell_type": "code",
      "source": [
        "# Create the first interactive map\n",
        "Map = geemap.Map( basemap = 'SATELLITE')"
      ],
      "metadata": {
        "id": "Tmxxs7tulEg7",
        "colab": {
          "base_uri": "https://localhost:8080/",
          "height": 17
        },
        "outputId": "91534225-512d-4a3d-eede-61b377b4e9de"
      },
      "execution_count": 3,
      "outputs": [
        {
          "output_type": "display_data",
          "data": {
            "text/plain": [
              "<IPython.core.display.HTML object>"
            ],
            "text/html": [
              "\n",
              "            <style>\n",
              "                .geemap-dark {\n",
              "                    --jp-widgets-color: white;\n",
              "                    --jp-widgets-label-color: white;\n",
              "                    --jp-ui-font-color1: white;\n",
              "                    --jp-layout-color2: #454545;\n",
              "                    background-color: #383838;\n",
              "                }\n",
              "\n",
              "                .geemap-dark .jupyter-button {\n",
              "                    --jp-layout-color3: #383838;\n",
              "                }\n",
              "\n",
              "                .geemap-colab {\n",
              "                    background-color: var(--colab-primary-surface-color, white);\n",
              "                }\n",
              "\n",
              "                .geemap-colab .jupyter-button {\n",
              "                    --jp-layout-color3: var(--colab-primary-surface-color, white);\n",
              "                }\n",
              "            </style>\n",
              "            "
            ]
          },
          "metadata": {}
        }
      ]
    },
    {
      "cell_type": "code",
      "source": [
        "# Create a point geometry using longitude and latitude ( alex [29.9187, 31.2001])\n",
        "alex_coor = [29.9187, 31.2001]\n",
        "point = ee.Geometry.Point(alex_coor)\n"
      ],
      "metadata": {
        "colab": {
          "base_uri": "https://localhost:8080/",
          "height": 17
        },
        "id": "WmMd5yPVBYDH",
        "outputId": "793b2cd7-7bd4-434d-d018-bf5752843789"
      },
      "execution_count": 5,
      "outputs": [
        {
          "output_type": "display_data",
          "data": {
            "text/plain": [
              "<IPython.core.display.HTML object>"
            ],
            "text/html": [
              "\n",
              "            <style>\n",
              "                .geemap-dark {\n",
              "                    --jp-widgets-color: white;\n",
              "                    --jp-widgets-label-color: white;\n",
              "                    --jp-ui-font-color1: white;\n",
              "                    --jp-layout-color2: #454545;\n",
              "                    background-color: #383838;\n",
              "                }\n",
              "\n",
              "                .geemap-dark .jupyter-button {\n",
              "                    --jp-layout-color3: #383838;\n",
              "                }\n",
              "\n",
              "                .geemap-colab {\n",
              "                    background-color: var(--colab-primary-surface-color, white);\n",
              "                }\n",
              "\n",
              "                .geemap-colab .jupyter-button {\n",
              "                    --jp-layout-color3: var(--colab-primary-surface-color, white);\n",
              "                }\n",
              "            </style>\n",
              "            "
            ]
          },
          "metadata": {}
        }
      ]
    },
    {
      "cell_type": "code",
      "source": [
        "# Add the point as a layer to the map\n",
        "Map.addLayer(point, {'color': 'red'}, 'Alex')\n",
        "Map.centerObject(point, 10)\n",
        "Map"
      ],
      "metadata": {
        "id": "6sblBsjzcRAR"
      },
      "execution_count": null,
      "outputs": []
    },
    {
      "cell_type": "markdown",
      "source": [
        "### Draw a polygon and extract its coordinates"
      ],
      "metadata": {
        "id": "Q1r71YAVlQlD"
      }
    },
    {
      "cell_type": "code",
      "source": [
        "# Get coordinates from the last drawn shape\n",
        "loc = Map.draw_last_feature\n",
        "coors =loc.geometry().coordinates().getInfo()\n",
        "coors\n"
      ],
      "metadata": {
        "id": "kVatqks_iL6U"
      },
      "execution_count": null,
      "outputs": []
    },
    {
      "cell_type": "code",
      "source": [
        "# Convert coordinates Polygon\n",
        "aoi = ee.Geometry.Polygon(coors)\n",
        "aoi.getInfo()"
      ],
      "metadata": {
        "id": "DWKPIvbkkzbU"
      },
      "execution_count": null,
      "outputs": []
    },
    {
      "cell_type": "code",
      "source": [
        "# Add aio as layer and show the polygon back on the map to confirm\n",
        "Map.addLayer(aoi , {'color': 'red'}, 'Alex_area')\n",
        "Map"
      ],
      "metadata": {
        "id": "cniqxXI3k1K8"
      },
      "execution_count": null,
      "outputs": []
    }
  ]
}
