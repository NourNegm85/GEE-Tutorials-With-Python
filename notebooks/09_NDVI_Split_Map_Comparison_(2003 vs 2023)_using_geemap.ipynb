{
  "nbformat": 4,
  "nbformat_minor": 0,
  "metadata": {
    "colab": {
      "provenance": [],
      "authorship_tag": "ABX9TyO5SzCXEYxvTImDoO4iTvKl"
    },
    "kernelspec": {
      "name": "python3",
      "display_name": "Python 3"
    },
    "language_info": {
      "name": "python"
    }
  },
  "cells": [
    {
      "cell_type": "markdown",
      "source": [
        "## 🎯 What You'll Learn in This Video\n",
        "\n",
        "✅ Compute the annual mean NDVI for 2003 and 2023 using the MOD13A2.061 Terra Vegetation Index dataset\n",
        "\n",
        "✅ Visualize yearly vegetation patterns with proper NDVI scaling and color mapping\n",
        "\n",
        "✅ Create an interactive split map in geemap to compare vegetation conditions between the two years"
      ],
      "metadata": {
        "id": "93Z0idn0S3Ah"
      }
    },
    {
      "cell_type": "code",
      "execution_count": null,
      "metadata": {
        "id": "3gN9YJp3G1dl"
      },
      "outputs": [],
      "source": [
        "import ee\n",
        "import geemap"
      ]
    },
    {
      "cell_type": "code",
      "source": [
        "# Authenticate and initialize Earth Engine\n",
        "ee.Authenticate()\n",
        "\n",
        "ee.Initialize(project = 'ee-nouribrahim25')"
      ],
      "metadata": {
        "id": "deeGHdGnHDZL"
      },
      "execution_count": null,
      "outputs": []
    },
    {
      "cell_type": "code",
      "source": [
        "# Define Egypt Region using Shapefile in GEE assets\n",
        "egy = ee.FeatureCollection ('projects/ee-nouribrahim25/assets/EGY-ADM0').geometry()\n",
        "egy"
      ],
      "metadata": {
        "id": "pgwsdD38MXJO"
      },
      "execution_count": null,
      "outputs": []
    },
    {
      "cell_type": "code",
      "source": [
        "# Load MODIS NDVI collection\n",
        "modis = (ee.ImageCollection('MODIS/006/MOD13A2')\n",
        "         .select('NDVI')\n",
        "         .filterBounds(egy)\n",
        "\n",
        ")\n"
      ],
      "metadata": {
        "id": "la8Ayqv1ICQD"
      },
      "execution_count": null,
      "outputs": []
    },
    {
      "cell_type": "code",
      "source": [
        "# NDVI for 2003\n",
        "ndvi_2003 = (modis.filterDate('2003', '2004')\n",
        "            .map(lambda image : image.multiply(0.0001))  # scale factor\n",
        "            .mean()\n",
        "            .clip(egy)\n",
        ")\n",
        "\n",
        "ndvi_2003"
      ],
      "metadata": {
        "id": "eFBpLxp5I6sI"
      },
      "execution_count": null,
      "outputs": []
    },
    {
      "cell_type": "code",
      "source": [
        "# NDVI for 2023\n",
        "ndvi_2023 = (modis.filterDate('2023', '2024')\n",
        "            .map(lambda image : image.multiply(0.0001))  # scale factor\n",
        "            .mean()\n",
        "            .clip(egy)\n",
        "\n",
        ")\n",
        "\n",
        "ndvi_2023"
      ],
      "metadata": {
        "id": "yxutzETGJQqX"
      },
      "execution_count": null,
      "outputs": []
    },
    {
      "cell_type": "code",
      "source": [
        "# Visualization parameters\n",
        "vis = {'min': 0.0, 'max': 0.8,\n",
        "    'palette': ['ffffff', 'ce7e45', 'df923d', 'f1b555', 'fcd163', '99b718', '74a901',\n",
        "    '66a000', '529400', '3e8601', '207401', '056201', '004c00', '023b01',\n",
        "    '012e01', '011d01', '011301']\n",
        "    }\n",
        "\n",
        "# Add layers\n",
        "layer_2003 = geemap.ee_tile_layer(ndvi_2003, vis, 'NDVI 2003')\n",
        "layer_2023 = geemap.ee_tile_layer(ndvi_2023, vis, 'NDVI 2023')"
      ],
      "metadata": {
        "id": "E8o2Yb7cKhkw"
      },
      "execution_count": null,
      "outputs": []
    },
    {
      "cell_type": "code",
      "source": [
        "Map = geemap.Map(basemap = 'SATELLITE')\n",
        "Map.centerObject(egy, 6)\n",
        "Map.split_map(left_layer=layer_2003, right_layer=layer_2023)  # Split map\n",
        "Map"
      ],
      "metadata": {
        "id": "bFexY4zOHMz3"
      },
      "execution_count": null,
      "outputs": []
    }
  ]
}