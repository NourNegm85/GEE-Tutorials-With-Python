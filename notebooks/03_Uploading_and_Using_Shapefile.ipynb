{
  "nbformat": 4,
  "nbformat_minor": 0,
  "metadata": {
    "colab": {
      "provenance": [],
      "authorship_tag": "ABX9TyORyjHf9qMN23jsAxcMMzde"
    },
    "kernelspec": {
      "name": "python3",
      "display_name": "Python 3"
    },
    "language_info": {
      "name": "python"
    }
  },
  "cells": [
    {
      "cell_type": "markdown",
      "source": [
        "##🎯 What You'll Learn:\n",
        "\n",
        "✅ Upload and manage shapefiles (study area and Egypt boundaries) as Earth Engine assets\n",
        "\n",
        "✅ Load shapefiles into Colab using ee.FeatureCollection()\n",
        "\n",
        "✅ Filter and visualize Landsat 9 images by study area or selected governorates\n",
        "\n"
      ],
      "metadata": {
        "id": "E6OTUV2sEish"
      }
    },
    {
      "cell_type": "code",
      "execution_count": null,
      "metadata": {
        "id": "J94ET0Bf4uCZ"
      },
      "outputs": [],
      "source": [
        "# Import Libraries\n",
        "import ee\n",
        "import geemap\n",
        "import pandas as pd"
      ]
    },
    {
      "cell_type": "code",
      "source": [
        "# Authenticate to Earth Engine.\n",
        "ee.Authenticate()\n",
        "\n",
        "# Initialize Earth Engine with your project ID\n",
        "ee.Initialize(project =  'your_project_name'  )"
      ],
      "metadata": {
        "id": "TrbtY8dbE27h"
      },
      "execution_count": null,
      "outputs": []
    },
    {
      "cell_type": "markdown",
      "source": [
        "Load FeatureCollections from Assets"
      ],
      "metadata": {
        "id": "DYT_-AN1FHfU"
      }
    },
    {
      "cell_type": "code",
      "source": [
        "# Load your study area shapefile\n",
        "study_area = ee.FeatureCollection(\"users/your_username/study_area\")"
      ],
      "metadata": {
        "id": "dSkwkTIdE5H0"
      },
      "execution_count": null,
      "outputs": []
    },
    {
      "cell_type": "code",
      "source": [
        "# Create an interactive map\n",
        "Map = geemap.Map(width = 800)\n",
        "Map.centerObject(study_area, 12)\n",
        "\n",
        "# Add layers\n",
        "Map.add_layer(study_area, {}, \"Study Area\")\n",
        "Map"
      ],
      "metadata": {
        "id": "DLiZXAePFfYm"
      },
      "execution_count": null,
      "outputs": []
    },
    {
      "cell_type": "markdown",
      "source": [
        "Get Landsat 9 Image for the Study Area"
      ],
      "metadata": {
        "id": "aK_nWHggGY5c"
      }
    },
    {
      "cell_type": "code",
      "source": [
        "# Load and filter Landsat 9 imagery by study area\n",
        "# For best single image\n",
        "image = (ee.ImageCollection(\"LANDSAT/LC09/C02/T1_L2\")\n",
        "    .filterBounds(study_area)\n",
        "    .filterDate(\"2024-01-01\", \"2025-01-01\")\n",
        "    .filter(ee.Filter.lt(\"CLOUD_COVER\", 10))\n",
        "    .sort(\"CLOUD_COVER\")\n",
        "    .sort(\"system:time_start\", False)      # Sort by date in descending order\n",
        "    .first()\n",
        ")"
      ],
      "metadata": {
        "id": "rOVi-5c_Wkeg"
      },
      "execution_count": null,
      "outputs": []
    },
    {
      "cell_type": "code",
      "source": [
        "# Define visualization parameters\n",
        "true_color = {\n",
        "    'bands': ['SR_B4', 'SR_B3', 'SR_B2'],   # Red, Green, Blue\n",
        "    'min': 5000,\n",
        "    'max': 15000,\n",
        "}\n",
        "\n",
        "false_color = {\n",
        "    'bands': ['SR_B5', 'SR_B4', 'SR_B3'],   # NIR, Red, Green\n",
        "    'min': 5000,\n",
        "    'max': 15000,\n",
        "}"
      ],
      "metadata": {
        "id": "LHyfK-8yXISn"
      },
      "execution_count": null,
      "outputs": []
    },
    {
      "cell_type": "code",
      "source": [
        "# Add the layers to the map\n",
        "Map.add_layer(image,true_color, \"Study Area True Color\")\n",
        "Map.add_layer(image,false_color, \"Study Area False Color\")\n",
        "\n",
        "Map"
      ],
      "metadata": {
        "id": "qFndO0P6GjOe"
      },
      "execution_count": null,
      "outputs": []
    },
    {
      "cell_type": "markdown",
      "source": [
        "Load Egypt Admin-1 Shapefile from Assets"
      ],
      "metadata": {
        "id": "OzBwGcpfMp4S"
      }
    },
    {
      "cell_type": "code",
      "source": [
        "# Load Egypt governorates shapefile\n",
        "egypt_admin = ee.FeatureCollection(\"users/your_username/egypt_admin1\")"
      ],
      "metadata": {
        "id": "XcxYT7HqFbm0"
      },
      "execution_count": null,
      "outputs": []
    },
    {
      "cell_type": "code",
      "source": [
        "# Add Egypt governorates to the same map\n",
        "Map.centerObject(egypt_admin, 6)\n",
        "Map.add_layer(egypt_admin, {}, \"Egypt Governorates\")\n",
        "Map"
      ],
      "metadata": {
        "id": "CD86X2fJMvOK"
      },
      "execution_count": null,
      "outputs": []
    },
    {
      "cell_type": "markdown",
      "source": [
        "View the properties of your FeatureCollection"
      ],
      "metadata": {
        "id": "kfh5KS47OtTg"
      }
    },
    {
      "cell_type": "code",
      "source": [
        "# Print first feature as dictionary\n",
        "first_feature = egypt_admin.first()\n",
        "print(first_feature.getInfo())"
      ],
      "metadata": {
        "id": "UQvEiLGiOutj"
      },
      "execution_count": null,
      "outputs": []
    },
    {
      "cell_type": "code",
      "source": [
        "# Get a list of all values of shapeName\n",
        "names = egypt_admin.aggregate_array(\"shapeName\").getInfo()\n",
        "print(names)"
      ],
      "metadata": {
        "id": "oSX8agZtO0rp"
      },
      "execution_count": null,
      "outputs": []
    },
    {
      "cell_type": "code",
      "source": [
        "# Convert FeatureCollection to DataFrame\n",
        "df = geemap.ee_to_df(egypt_admin)\n",
        "\n",
        "df.head()"
      ],
      "metadata": {
        "id": "GQPDN315Mxox"
      },
      "execution_count": null,
      "outputs": []
    },
    {
      "cell_type": "code",
      "source": [
        "# List all unique governorate names\n",
        "print(df['shapeName'].unique())"
      ],
      "metadata": {
        "id": "s4P2W0T8PMHh"
      },
      "execution_count": null,
      "outputs": []
    },
    {
      "cell_type": "code",
      "source": [
        "gov_names = [ 'Alexandria Governorate' , 'Beheira Governorate', 'Minya Governate' ]\n",
        "selected_gov = egypt_admin.filter(ee.Filter.inList(\"shapeName\", gov_names))\n",
        "Map.centerObject(selected_gov, 6)\n",
        "Map.addLayer(selected_gov, {}, \"Selected Governorates\")\n",
        "Map"
      ],
      "metadata": {
        "id": "gDFvwzYkPepp"
      },
      "execution_count": null,
      "outputs": []
    },
    {
      "cell_type": "markdown",
      "source": [
        "Get Landsat 9 Image for the selcted governorates"
      ],
      "metadata": {
        "id": "mKI1D3d_aQM4"
      }
    },
    {
      "cell_type": "code",
      "source": [
        " # Filter Landsat imagery by selected governorate\n",
        "image_sel_gov = (ee.ImageCollection(\"LANDSAT/LC09/C02/T1_L2\")\n",
        "    .filterBounds(selected_gov)\n",
        "    .filterDate(\"2024-01-01\", \"2025-01-01\")\n",
        "    .filter(ee.Filter.lt(\"CLOUD_COVER\", 10))\n",
        "    .median()\n",
        ")"
      ],
      "metadata": {
        "id": "6P3syz4xZOOX"
      },
      "execution_count": null,
      "outputs": []
    },
    {
      "cell_type": "code",
      "source": [
        "# Add the layers to the map\n",
        "Map.add_layer(image_sel_gov,true_color, \"Sel_Govs True Color\")\n",
        "Map.add_layer(image_sel_gov,false_color, \"Sel_Govs False Color\")\n",
        "\n",
        "Map"
      ],
      "metadata": {
        "id": "HpElmx5PaqnP"
      },
      "execution_count": null,
      "outputs": []
    }
  ]
}
